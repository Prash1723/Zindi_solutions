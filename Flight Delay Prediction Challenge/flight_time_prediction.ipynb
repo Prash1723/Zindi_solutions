{
 "cells": [
  {
   "cell_type": "markdown",
   "metadata": {},
   "source": [
    "## Functions"
   ]
  },
  {
   "cell_type": "code",
   "execution_count": 1,
   "metadata": {},
   "outputs": [],
   "source": [
    "def split_data(X, y):\n",
    "    \"\"\"Function to split data into Training and Testing feature\"\"\"\n",
    "    X1 = X.drop(['ID'], axis=1)\n",
    "    X_c = autoclean(X1)\n",
    "    \n",
    "    X_train, X_test, y_train, y_test = train_test_split(X_c, y, test_size=0.3, random_state=33)\n",
    "    \n",
    "    return X_train, X_test, y_train, y_test"
   ]
  },
  {
   "cell_type": "code",
   "execution_count": 2,
   "metadata": {},
   "outputs": [],
   "source": [
    "def base_model(X_train, X_test, y_train, y_test):\n",
    "    \"\"\"Function to run various models on the dataset\"\"\"\n",
    "    \n",
    "    models = {\n",
    "        ('LR', LinearRegression()),\n",
    "        ('LS', Lasso()),\n",
    "        ('RI', Ridge()),\n",
    "        ('EN', ElasticNet()),\n",
    "        ('RFR', RandomForestRegressor()),\n",
    "        ('GBR', GradientBoostingRegressor()),\n",
    "        ('ABR', AdaBoostRegressor())\n",
    "    }\n",
    "    \n",
    "    mods, tr_acc, te_acc, rmse_sc, mae_sc = [], [], [], [], []\n",
    "    \n",
    "    for name, model in models:\n",
    "        clf = model\n",
    "        clf.fit(X_train, y_train) # Fit Model\n",
    "        y_pred = clf.predict(X_test) # Predict Target using Model\n",
    "        \n",
    "        mods.append(name) # Model Names\n",
    "        \n",
    "        tra = clf.score(X_train, y_train) # Train score\n",
    "        tr_acc.append(tra)\n",
    "        \n",
    "        tea = clf.score(X_test, y_test) # Test score\n",
    "        te_acc.append(tea)\n",
    "        \n",
    "        rmsc = np.sqrt(round(mean_squared_error(y_test, y_pred), 2)) # RMSE score\n",
    "        rmse_sc.append(rmsc)\n",
    "        \n",
    "        msc = round(mean_absolute_error(y_test, y_pred), 2) # MAE score\n",
    "        mae_sc.append(msc)\n",
    "    \n",
    "    x = {\n",
    "        'Model': mods,\n",
    "        'Train Accuracy': tr_acc, \n",
    "        'Test Accuracy': te_acc, \n",
    "        'MAE score': mae_sc, \n",
    "        'RMSE score': rmse_sc\n",
    "    }\n",
    "    \n",
    "    return pd.DataFrame(x)"
   ]
  },
  {
   "cell_type": "code",
   "execution_count": 3,
   "metadata": {},
   "outputs": [],
   "source": [
    "def fs_plot(X, y, model):\n",
    "    \"\"\"Function to plot the feature significance\"\"\"\n",
    "    cols = X.columns.tolist()\n",
    "\n",
    "    X_c = autoclean(X)\n",
    "\n",
    "    X_train, X_test, y_train, y_test = train_test_split(X, y, test_size=0.3, random_state=33)\n",
    "\n",
    "    model.fit(X_train, y_train)\n",
    "\n",
    "    # perform xgb importance\n",
    "    xgb_fea_imp = pd.DataFrame(list(model.get_booster().get_fscore().items()), \n",
    "                            columns=['feature','importance']).sort_values('importance', ascending=False)\n",
    "\n",
    "    # get xgb importance\n",
    "    xgb_sig = model.feature_importances_\n",
    "\n",
    "    # perform permutation importance\n",
    "    results = permutation_importance(model, X, y, scoring='neg_root_mean_squared_error')\n",
    "\n",
    "    # get permutation importance\n",
    "    importance = results.importances_mean\n",
    "\n",
    "    # List of feature f score\n",
    "    print('Feature Importance using f score :\\n', '', xgb_fea_imp)\n",
    "    print('-'*50)\n",
    "\n",
    "    # Plot feature f score\n",
    "    plot_importance(model, )\n",
    "    plt.show()\n",
    "    print('-'*50)\n",
    "\n",
    "    # Summarize feature importance\n",
    "    print('Feature importance using xgboost :')\n",
    "    for i,v in enumerate(xgb_sig):\n",
    "        print('Feature: %0d, Score: %.5f' % (i,v))\n",
    "    print('-'*50)\n",
    "\n",
    "    # plot xgb feature importance\n",
    "    plt.figure(figsize=[15, 4])\n",
    "    plt.bar([x for x in cols], xgb_sig)\n",
    "    plt.xticks(rotation=90)\n",
    "    plt.show()\n",
    "    print('-'*50)\n",
    "\n",
    "    # Summarize feature importance\n",
    "    print('Feature importance using permutation :')\n",
    "    for i,v in enumerate(importance):\n",
    "        print('Feature: %0d, Score: %.5f' % (i,v))\n",
    "    print('-'*50)\n",
    "\n",
    "    # plot permutation feature importance\n",
    "    plt.figure(figsize=[15, 4])\n",
    "    plt.bar([x for x in cols], importance)\n",
    "    plt.xticks(rotation=90)\n",
    "    plt.show()"
   ]
  },
  {
   "cell_type": "code",
   "execution_count": 4,
   "metadata": {},
   "outputs": [],
   "source": [
    "def high_corel(data, co_value):\n",
    "    \"\"\"Function to find all the features that are highly correlated\"\"\"\n",
    "    mat = data.corr().abs()\n",
    "    \n",
    "    upper = mat.where(np.triu(np.ones(mat.shape), k=1).astype(np.bool))\n",
    "    \n",
    "    to_drop = [col for col in upper.columns if any(upper[col] > co_value)]\n",
    "    \n",
    "    return to_drop"
   ]
  },
  {
   "cell_type": "code",
   "execution_count": 5,
   "metadata": {},
   "outputs": [],
   "source": [
    "def check_corr(data):\n",
    "    \"\"\"FUnction to check the correlation of the dataset\"\"\"\n",
    "    \n",
    "    X_c = autoclean(X)\n",
    "    \n",
    "    plt.figure(figsize=[12,10])\n",
    "    g = sns.heatmap(X_c.corr())\n",
    "    plt.show()\n",
    "    print('-'*50)"
   ]
  },
  {
   "cell_type": "code",
   "execution_count": 6,
   "metadata": {},
   "outputs": [],
   "source": [
    "def to_minutes(x):\n",
    "    \"\"\"Function to convert time data into minute values\"\"\"\n",
    "    a = pd.to_numeric(x.strftime('%H')) * 60\n",
    "    b = pd.to_numeric(x.strftime('%M'))\n",
    "    \n",
    "    return a + b\n",
    "\n",
    "def days_to(x):\n",
    "    \"\"\"Function to convert days into minutes\"\"\"\n",
    "    return pd.to_numeric(x) * 24 *  60"
   ]
  },
  {
   "cell_type": "markdown",
   "metadata": {},
   "source": [
    "# Libraries"
   ]
  },
  {
   "cell_type": "code",
   "execution_count": 7,
   "metadata": {},
   "outputs": [],
   "source": [
    "import pandas as pd\n",
    "import numpy as np\n",
    "import matplotlib.pyplot as plt\n",
    "import seaborn as sns\n",
    "from datacleaner import autoclean\n",
    "import category_encoders as ce\n",
    "import warnings\n",
    "warnings.filterwarnings('ignore')\n",
    "from datetime import datetime\n",
    "\n",
    "from sklearn.preprocessing import MinMaxScaler, RobustScaler, StandardScaler\n",
    "\n",
    "from scipy import stats\n",
    "import statsmodels.api as sm\n",
    "\n",
    "from sklearn.model_selection import train_test_split\n",
    "from sklearn.linear_model import LinearRegression, Lasso, Ridge, ElasticNet\n",
    "from sklearn.tree import DecisionTreeRegressor, ExtraTreeRegressor\n",
    "from sklearn.ensemble import RandomForestRegressor, GradientBoostingRegressor, AdaBoostRegressor\n",
    "from xgboost import XGBRegressor, plot_importance\n",
    "from sklearn.svm import SVR, LinearSVR\n",
    "\n",
    "from sklearn.metrics import mean_squared_error, mean_absolute_error\n",
    "\n",
    "from sklearn.feature_selection import chi2, f_classif, f_regression, SelectKBest\n",
    "from sklearn.inspection import permutation_importance"
   ]
  },
  {
   "cell_type": "markdown",
   "metadata": {},
   "source": [
    "# A. Train Set"
   ]
  },
  {
   "cell_type": "markdown",
   "metadata": {},
   "source": [
    "### 1. Load Data"
   ]
  },
  {
   "cell_type": "code",
   "execution_count": 8,
   "metadata": {},
   "outputs": [],
   "source": [
    "# Train Set\n",
    "total_df = pd.read_csv(r\"/home/praveen/Downloads/Data Science/Data projects/flight_time/file/Train.csv\")\n",
    "\n",
    "# Test Set\n",
    "test_df = pd.read_csv(r\"/home/praveen/Downloads/Data Science/Data projects/flight_time/file/Test.csv\")"
   ]
  },
  {
   "cell_type": "markdown",
   "metadata": {},
   "source": [
    "### 2. EDA"
   ]
  },
  {
   "cell_type": "code",
   "execution_count": 9,
   "metadata": {},
   "outputs": [],
   "source": [
    "# Creating unique feature for identification between Validation and Train Feature\n",
    "total_df['train'] = 1\n",
    "test_df['train'] = 0\n",
    "\n",
    "# Sorting target variable from train and validation data into 2 different variables\n",
    "y = total_df['target'].copy()\n",
    "test_id = test_df['ID'].copy()\n",
    "\n",
    "# Concating train and validation data\n",
    "total_df = total_df.drop('target', axis=1) # Concated features\n",
    "df = pd.concat([total_df, test_df])"
   ]
  },
  {
   "cell_type": "code",
   "execution_count": 10,
   "metadata": {
    "scrolled": true
   },
   "outputs": [
    {
     "data": {
      "text/plain": [
       "(117166, 10)"
      ]
     },
     "execution_count": 10,
     "metadata": {},
     "output_type": "execute_result"
    }
   ],
   "source": [
    "df.shape"
   ]
  },
  {
   "cell_type": "code",
   "execution_count": 11,
   "metadata": {},
   "outputs": [
    {
     "data": {
      "text/html": [
       "<div>\n",
       "<style scoped>\n",
       "    .dataframe tbody tr th:only-of-type {\n",
       "        vertical-align: middle;\n",
       "    }\n",
       "\n",
       "    .dataframe tbody tr th {\n",
       "        vertical-align: top;\n",
       "    }\n",
       "\n",
       "    .dataframe thead th {\n",
       "        text-align: right;\n",
       "    }\n",
       "</style>\n",
       "<table border=\"1\" class=\"dataframe\">\n",
       "  <thead>\n",
       "    <tr style=\"text-align: right;\">\n",
       "      <th></th>\n",
       "      <th>7562</th>\n",
       "      <th>8586</th>\n",
       "      <th>90430</th>\n",
       "      <th>62328</th>\n",
       "      <th>94191</th>\n",
       "    </tr>\n",
       "  </thead>\n",
       "  <tbody>\n",
       "    <tr>\n",
       "      <th>ID</th>\n",
       "      <td>test_id_7562</td>\n",
       "      <td>test_id_8586</td>\n",
       "      <td>train_id_90430</td>\n",
       "      <td>train_id_62328</td>\n",
       "      <td>train_id_94191</td>\n",
       "    </tr>\n",
       "    <tr>\n",
       "      <th>DATOP</th>\n",
       "      <td>2018-09-17</td>\n",
       "      <td>2018-09-29</td>\n",
       "      <td>2018-04-24</td>\n",
       "      <td>2017-07-03</td>\n",
       "      <td>2018-05-24</td>\n",
       "    </tr>\n",
       "    <tr>\n",
       "      <th>FLTID</th>\n",
       "      <td>TU 0996</td>\n",
       "      <td>TU 0647</td>\n",
       "      <td>TU 0716</td>\n",
       "      <td>TU 2007</td>\n",
       "      <td>TU 0208</td>\n",
       "    </tr>\n",
       "    <tr>\n",
       "      <th>DEPSTN</th>\n",
       "      <td>TUN</td>\n",
       "      <td>FRA</td>\n",
       "      <td>TUN</td>\n",
       "      <td>MXP</td>\n",
       "      <td>TUN</td>\n",
       "    </tr>\n",
       "    <tr>\n",
       "      <th>ARRSTN</th>\n",
       "      <td>NCE</td>\n",
       "      <td>MIR</td>\n",
       "      <td>ORY</td>\n",
       "      <td>MIR</td>\n",
       "      <td>NTE</td>\n",
       "    </tr>\n",
       "    <tr>\n",
       "      <th>STD</th>\n",
       "      <td>2018-09-17 07:50:00</td>\n",
       "      <td>2018-09-29 17:40:00</td>\n",
       "      <td>2018-04-24 06:10:00</td>\n",
       "      <td>2017-07-03 21:20:00</td>\n",
       "      <td>2018-05-24 13:20:00</td>\n",
       "    </tr>\n",
       "    <tr>\n",
       "      <th>STA</th>\n",
       "      <td>2018-09-17 09.20.00</td>\n",
       "      <td>2018-09-29 20.10.00</td>\n",
       "      <td>2018-04-24 08.30.00</td>\n",
       "      <td>2017-07-03 23.20.00</td>\n",
       "      <td>2018-05-24 15.45.00</td>\n",
       "    </tr>\n",
       "    <tr>\n",
       "      <th>STATUS</th>\n",
       "      <td>ATA</td>\n",
       "      <td>ATA</td>\n",
       "      <td>ATA</td>\n",
       "      <td>ATA</td>\n",
       "      <td>ATA</td>\n",
       "    </tr>\n",
       "    <tr>\n",
       "      <th>AC</th>\n",
       "      <td>TU 320IMT</td>\n",
       "      <td>TU 32AIML</td>\n",
       "      <td>TU 320IMV</td>\n",
       "      <td>TU 736IOL</td>\n",
       "      <td>TU 32AIMD</td>\n",
       "    </tr>\n",
       "    <tr>\n",
       "      <th>train</th>\n",
       "      <td>0</td>\n",
       "      <td>0</td>\n",
       "      <td>1</td>\n",
       "      <td>1</td>\n",
       "      <td>1</td>\n",
       "    </tr>\n",
       "  </tbody>\n",
       "</table>\n",
       "</div>"
      ],
      "text/plain": [
       "                      7562                 8586                 90430  \\\n",
       "ID             test_id_7562         test_id_8586       train_id_90430   \n",
       "DATOP            2018-09-17           2018-09-29           2018-04-24   \n",
       "FLTID              TU 0996              TU 0647              TU 0716    \n",
       "DEPSTN                  TUN                  FRA                  TUN   \n",
       "ARRSTN                  NCE                  MIR                  ORY   \n",
       "STD     2018-09-17 07:50:00  2018-09-29 17:40:00  2018-04-24 06:10:00   \n",
       "STA     2018-09-17 09.20.00  2018-09-29 20.10.00  2018-04-24 08.30.00   \n",
       "STATUS                  ATA                  ATA                  ATA   \n",
       "AC                TU 320IMT            TU 32AIML            TU 320IMV   \n",
       "train                     0                    0                    1   \n",
       "\n",
       "                      62328                94191  \n",
       "ID           train_id_62328       train_id_94191  \n",
       "DATOP            2017-07-03           2018-05-24  \n",
       "FLTID              TU 2007              TU 0208   \n",
       "DEPSTN                  MXP                  TUN  \n",
       "ARRSTN                  MIR                  NTE  \n",
       "STD     2017-07-03 21:20:00  2018-05-24 13:20:00  \n",
       "STA     2017-07-03 23.20.00  2018-05-24 15.45.00  \n",
       "STATUS                  ATA                  ATA  \n",
       "AC                TU 736IOL            TU 32AIMD  \n",
       "train                     1                    1  "
      ]
     },
     "execution_count": 11,
     "metadata": {},
     "output_type": "execute_result"
    }
   ],
   "source": [
    "df.sample(5).T"
   ]
  },
  {
   "cell_type": "code",
   "execution_count": 12,
   "metadata": {},
   "outputs": [
    {
     "name": "stdout",
     "output_type": "stream",
     "text": [
      "<class 'pandas.core.frame.DataFrame'>\n",
      "Int64Index: 117166 entries, 0 to 9332\n",
      "Data columns (total 10 columns):\n",
      " #   Column  Non-Null Count   Dtype \n",
      "---  ------  --------------   ----- \n",
      " 0   ID      117166 non-null  object\n",
      " 1   DATOP   117166 non-null  object\n",
      " 2   FLTID   117166 non-null  object\n",
      " 3   DEPSTN  117166 non-null  object\n",
      " 4   ARRSTN  117166 non-null  object\n",
      " 5   STD     117166 non-null  object\n",
      " 6   STA     117166 non-null  object\n",
      " 7   STATUS  117166 non-null  object\n",
      " 8   AC      117166 non-null  object\n",
      " 9   train   117166 non-null  int64 \n",
      "dtypes: int64(1), object(9)\n",
      "memory usage: 9.8+ MB\n"
     ]
    }
   ],
   "source": [
    "df.info()"
   ]
  },
  {
   "cell_type": "markdown",
   "metadata": {},
   "source": [
    "#### 2a. Unique values in each feature"
   ]
  },
  {
   "cell_type": "code",
   "execution_count": 13,
   "metadata": {},
   "outputs": [
    {
     "data": {
      "text/plain": [
       "ID        100.000000\n",
       "DATOP       0.935425\n",
       "FLTID       1.631873\n",
       "DEPSTN      0.114368\n",
       "ARRSTN      0.110954\n",
       "STD        75.712237\n",
       "STA        78.882099\n",
       "STATUS      0.004267\n",
       "AC          0.059744\n",
       "train       0.001707\n",
       "dtype: float64"
      ]
     },
     "execution_count": 13,
     "metadata": {},
     "output_type": "execute_result"
    }
   ],
   "source": [
    "df.nunique()*100/df.shape[0]"
   ]
  },
  {
   "cell_type": "markdown",
   "metadata": {},
   "source": [
    "### 3. Base Model\n",
    "    Running Data on the following algorithms -\n",
    "    a. Linear Regression (LR)\n",
    "    b. Ridge Regression (RI)\n",
    "    c. Random Forest Regressor (RFR)\n",
    "    d. Adaptive Boost Regressor (ABR)\n",
    "    e. Gradient Boost Regressor (GBR)\n",
    "    f. Elastic Net (EN)\n",
    "    g. Lasso Regression (LS)"
   ]
  },
  {
   "cell_type": "code",
   "execution_count": 14,
   "metadata": {},
   "outputs": [],
   "source": [
    "X_train, X_test, y_train, y_test = split_data(total_df, y)"
   ]
  },
  {
   "cell_type": "code",
   "execution_count": 15,
   "metadata": {},
   "outputs": [
    {
     "data": {
      "text/html": [
       "<div>\n",
       "<style scoped>\n",
       "    .dataframe tbody tr th:only-of-type {\n",
       "        vertical-align: middle;\n",
       "    }\n",
       "\n",
       "    .dataframe tbody tr th {\n",
       "        vertical-align: top;\n",
       "    }\n",
       "\n",
       "    .dataframe thead th {\n",
       "        text-align: right;\n",
       "    }\n",
       "</style>\n",
       "<table border=\"1\" class=\"dataframe\">\n",
       "  <thead>\n",
       "    <tr style=\"text-align: right;\">\n",
       "      <th></th>\n",
       "      <th>Model</th>\n",
       "      <th>Train Accuracy</th>\n",
       "      <th>Test Accuracy</th>\n",
       "      <th>MAE score</th>\n",
       "      <th>RMSE score</th>\n",
       "    </tr>\n",
       "  </thead>\n",
       "  <tbody>\n",
       "    <tr>\n",
       "      <th>0</th>\n",
       "      <td>RI</td>\n",
       "      <td>0.031919</td>\n",
       "      <td>0.034070</td>\n",
       "      <td>55.66</td>\n",
       "      <td>113.594674</td>\n",
       "    </tr>\n",
       "    <tr>\n",
       "      <th>1</th>\n",
       "      <td>RFR</td>\n",
       "      <td>0.891581</td>\n",
       "      <td>0.251718</td>\n",
       "      <td>44.03</td>\n",
       "      <td>99.981098</td>\n",
       "    </tr>\n",
       "    <tr>\n",
       "      <th>2</th>\n",
       "      <td>LR</td>\n",
       "      <td>0.031919</td>\n",
       "      <td>0.034070</td>\n",
       "      <td>55.66</td>\n",
       "      <td>113.594674</td>\n",
       "    </tr>\n",
       "    <tr>\n",
       "      <th>3</th>\n",
       "      <td>EN</td>\n",
       "      <td>0.030722</td>\n",
       "      <td>0.032782</td>\n",
       "      <td>55.53</td>\n",
       "      <td>113.670401</td>\n",
       "    </tr>\n",
       "    <tr>\n",
       "      <th>4</th>\n",
       "      <td>GBR</td>\n",
       "      <td>0.114076</td>\n",
       "      <td>0.090728</td>\n",
       "      <td>51.49</td>\n",
       "      <td>110.212840</td>\n",
       "    </tr>\n",
       "    <tr>\n",
       "      <th>5</th>\n",
       "      <td>LS</td>\n",
       "      <td>0.031774</td>\n",
       "      <td>0.033950</td>\n",
       "      <td>55.58</td>\n",
       "      <td>113.601761</td>\n",
       "    </tr>\n",
       "    <tr>\n",
       "      <th>6</th>\n",
       "      <td>ABR</td>\n",
       "      <td>-0.114825</td>\n",
       "      <td>-0.115574</td>\n",
       "      <td>77.86</td>\n",
       "      <td>122.077148</td>\n",
       "    </tr>\n",
       "  </tbody>\n",
       "</table>\n",
       "</div>"
      ],
      "text/plain": [
       "  Model  Train Accuracy  Test Accuracy  MAE score  RMSE score\n",
       "0    RI        0.031919       0.034070      55.66  113.594674\n",
       "1   RFR        0.891581       0.251718      44.03   99.981098\n",
       "2    LR        0.031919       0.034070      55.66  113.594674\n",
       "3    EN        0.030722       0.032782      55.53  113.670401\n",
       "4   GBR        0.114076       0.090728      51.49  110.212840\n",
       "5    LS        0.031774       0.033950      55.58  113.601761\n",
       "6   ABR       -0.114825      -0.115574      77.86  122.077148"
      ]
     },
     "execution_count": 15,
     "metadata": {},
     "output_type": "execute_result"
    }
   ],
   "source": [
    "base_model(X_train, X_test, y_train, y_test)"
   ]
  },
  {
   "cell_type": "markdown",
   "metadata": {},
   "source": [
    "### 4. Regression Analysis"
   ]
  },
  {
   "cell_type": "code",
   "execution_count": 16,
   "metadata": {},
   "outputs": [
    {
     "name": "stdout",
     "output_type": "stream",
     "text": [
      "                            OLS Regression Results                            \n",
      "==============================================================================\n",
      "Dep. Variable:                 target   R-squared:                       0.033\n",
      "Model:                            OLS   Adj. R-squared:                  0.032\n",
      "Method:                 Least Squares   F-statistic:                     453.6\n",
      "Date:                Wed, 22 Dec 2021   Prob (F-statistic):               0.00\n",
      "Time:                        13:48:18   Log-Likelihood:            -6.6487e+05\n",
      "No. Observations:              107833   AIC:                         1.330e+06\n",
      "Df Residuals:                  107824   BIC:                         1.330e+06\n",
      "Df Model:                           8                                         \n",
      "Covariance Type:            nonrobust                                         \n",
      "==============================================================================\n",
      "                 coef    std err          t      P>|t|      [0.025      0.975]\n",
      "------------------------------------------------------------------------------\n",
      "DATOP          0.2401      0.044      5.400      0.000       0.153       0.327\n",
      "FLTID         -0.0067      0.001     -8.341      0.000      -0.008      -0.005\n",
      "DEPSTN        -0.0307      0.010     -3.072      0.002      -0.050      -0.011\n",
      "ARRSTN         0.0501      0.010      4.816      0.000       0.030       0.070\n",
      "STD            0.0009      0.002      0.553      0.581      -0.002       0.004\n",
      "STA           -0.0033      0.001     -2.247      0.025      -0.006      -0.000\n",
      "STATUS       -10.8044      0.366    -29.535      0.000     -11.521     -10.087\n",
      "AC            -0.2052      0.036     -5.635      0.000      -0.277      -0.134\n",
      "train         42.5988      2.402     17.736      0.000      37.891      47.306\n",
      "==============================================================================\n",
      "Omnibus:                   156157.389   Durbin-Watson:                   1.566\n",
      "Prob(Omnibus):                  0.000   Jarque-Bera (JB):         84327274.404\n",
      "Skew:                           8.619   Prob(JB):                         0.00\n",
      "Kurtosis:                     138.909   Cond. No.                     4.65e+05\n",
      "==============================================================================\n",
      "\n",
      "Notes:\n",
      "[1] Standard Errors assume that the covariance matrix of the errors is correctly specified.\n",
      "[2] The condition number is large, 4.65e+05. This might indicate that there are\n",
      "strong multicollinearity or other numerical problems.\n"
     ]
    }
   ],
   "source": [
    "X = total_df.drop(['ID'], axis=1)  # Features\n",
    "\n",
    "cols = X.columns.tolist()\n",
    "\n",
    "X_c = autoclean(X) # Clean and Label data\n",
    "\n",
    "X_base = sm.add_constant(X_c)\n",
    "model = sm.OLS(y, X_base)\n",
    "results = model.fit()\n",
    "print(results.summary())"
   ]
  },
  {
   "cell_type": "markdown",
   "metadata": {},
   "source": [
    "### 5. Feature Selection Plot"
   ]
  },
  {
   "cell_type": "code",
   "execution_count": 17,
   "metadata": {},
   "outputs": [
    {
     "name": "stdout",
     "output_type": "stream",
     "text": [
      "Feature Importance using f score :\n",
      "    feature  importance\n",
      "4      ID        1315\n",
      "3   FLTID         864\n",
      "1     STD         647\n",
      "6      AC         556\n",
      "7   DATOP         464\n",
      "2     STA         372\n",
      "8  DEPSTN         356\n",
      "5  ARRSTN         228\n",
      "0  STATUS          49\n",
      "--------------------------------------------------\n"
     ]
    },
    {
     "data": {
      "image/png": "[encoded data removed]",
      "text/plain": [
       "<Figure size 432x288 with 1 Axes>"
      ]
     },
     "metadata": {
      "needs_background": "light"
     },
     "output_type": "display_data"
    },
    {
     "name": "stdout",
     "output_type": "stream",
     "text": [
      "--------------------------------------------------\n",
      "Feature importance using xgboost :\n",
      "Feature: 0, Score: 0.07171\n",
      "Feature: 1, Score: 0.06317\n",
      "Feature: 2, Score: 0.07240\n",
      "Feature: 3, Score: 0.05249\n",
      "Feature: 4, Score: 0.05150\n",
      "Feature: 5, Score: 0.11430\n",
      "Feature: 6, Score: 0.13293\n",
      "Feature: 7, Score: 0.38589\n",
      "Feature: 8, Score: 0.05559\n",
      "Feature: 9, Score: 0.00000\n",
      "--------------------------------------------------\n"
     ]
    },
    {
     "data": {
      "image/png": "[encoded data removed]",
      "text/plain": [
       "<Figure size 1080x288 with 1 Axes>"
      ]
     },
     "metadata": {
      "needs_background": "light"
     },
     "output_type": "display_data"
    },
    {
     "name": "stdout",
     "output_type": "stream",
     "text": [
      "--------------------------------------------------\n",
      "Feature importance using permutation :\n",
      "Feature: 0, Score: 9.87882\n",
      "Feature: 1, Score: 33.27741\n",
      "Feature: 2, Score: 20.98145\n",
      "Feature: 3, Score: 14.68386\n",
      "Feature: 4, Score: 4.75006\n",
      "Feature: 5, Score: 352.97758\n",
      "Feature: 6, Score: 348.45714\n",
      "Feature: 7, Score: 3.10989\n",
      "Feature: 8, Score: 9.22557\n",
      "Feature: 9, Score: 0.00000\n",
      "--------------------------------------------------\n"
     ]
    },
    {
     "data": {
      "image/png": "[encoded data removed]",
      "text/plain": [
       "<Figure size 1080x288 with 1 Axes>"
      ]
     },
     "metadata": {
      "needs_background": "light"
     },
     "output_type": "display_data"
    }
   ],
   "source": [
    "fs_plot(total_df, y, XGBRegressor())"
   ]
  },
  {
   "cell_type": "markdown",
   "metadata": {},
   "source": [
    "### 6. Correlation Analysis"
   ]
  },
  {
   "cell_type": "code",
   "execution_count": 18,
   "metadata": {
    "scrolled": false
   },
   "outputs": [
    {
     "data": {
      "image/png": "[encoded data removed]",
      "text/plain": [
       "<Figure size 864x720 with 2 Axes>"
      ]
     },
     "metadata": {
      "needs_background": "light"
     },
     "output_type": "display_data"
    },
    {
     "name": "stdout",
     "output_type": "stream",
     "text": [
      "--------------------------------------------------\n"
     ]
    }
   ],
   "source": [
    "check_corr(total_df)"
   ]
  },
  {
   "cell_type": "code",
   "execution_count": 19,
   "metadata": {},
   "outputs": [
    {
     "data": {
      "text/plain": [
       "['STD', 'STA', 'STATUS']"
      ]
     },
     "execution_count": 19,
     "metadata": {},
     "output_type": "execute_result"
    }
   ],
   "source": [
    "high_corel(total_df, 0.55)"
   ]
  },
  {
   "cell_type": "markdown",
   "metadata": {},
   "source": [
    "### 7. Feature Engineering\n",
    "#### 7a. Flight Duration -\n",
    "    Converting STA and STD to datetime format so as to calculate the flight duration"
   ]
  },
  {
   "cell_type": "code",
   "execution_count": 20,
   "metadata": {},
   "outputs": [],
   "source": [
    "# STA\n",
    "df['STA'] = [datetime.strptime(x, '%Y-%m-%d %H.%M.%S') for x in df['STA']]\n",
    "df['STA'] = [datetime.strftime(x, '%Y-%m-%d %H:%M:%S') for x in df['STA']] # Convert STA to the same format as STD\n",
    "df['STA'] = pd.to_datetime(df['STA'])\n",
    "\n",
    "# STD\n",
    "df['STD'] = [datetime.strptime(x, '%Y-%m-%d %H:%M:%S') for x in df['STD']]\n",
    "df['STD'] = pd.to_datetime(df['STD'])\n",
    "\n",
    "# Difference from STD and STA\n",
    "df['diff'] = df['STA'] - df['STD']"
   ]
  },
  {
   "cell_type": "code",
   "execution_count": 21,
   "metadata": {},
   "outputs": [],
   "source": [
    "# Convert feature data type into Timedelta\n",
    "df['flight_time'] = pd.to_timedelta(df['diff'])\n",
    "\n",
    "# Convert flight duration to Total Minutes\n",
    "df['flight_time'] = df['flight_time'].dt.total_seconds()/60"
   ]
  },
  {
   "cell_type": "code",
   "execution_count": 22,
   "metadata": {},
   "outputs": [],
   "source": [
    "df.drop(columns=['STA', 'STD', 'diff'], axis=1, inplace=True)"
   ]
  },
  {
   "cell_type": "markdown",
   "metadata": {},
   "source": [
    "### 8. Feature Scaling"
   ]
  },
  {
   "cell_type": "code",
   "execution_count": 23,
   "metadata": {},
   "outputs": [],
   "source": [
    "m_scaler = MinMaxScaler() # Min Max Scaler\n",
    "\n",
    "r_scaler = RobustScaler() # Robust Scaler\n",
    "\n",
    "s_scaler = StandardScaler() # Standard Scaler"
   ]
  },
  {
   "cell_type": "markdown",
   "metadata": {},
   "source": [
    "#### 8a. Data Distribution"
   ]
  },
  {
   "cell_type": "code",
   "execution_count": 24,
   "metadata": {},
   "outputs": [
    {
     "data": {
      "text/plain": [
       "train          -3.104955\n",
       "flight_time    87.412500\n",
       "dtype: float64"
      ]
     },
     "execution_count": 24,
     "metadata": {},
     "output_type": "execute_result"
    }
   ],
   "source": [
    "df.skew()"
   ]
  },
  {
   "cell_type": "code",
   "execution_count": 25,
   "metadata": {
    "scrolled": true
   },
   "outputs": [
    {
     "data": {
      "text/plain": [
       "<AxesSubplot:xlabel='flight_time', ylabel='Density'>"
      ]
     },
     "execution_count": 25,
     "metadata": {},
     "output_type": "execute_result"
    },
    {
     "data": {
      "image/png": "[encoded data removed]",
      "text/plain": [
       "<Figure size 432x288 with 1 Axes>"
      ]
     },
     "metadata": {
      "needs_background": "light"
     },
     "output_type": "display_data"
    }
   ],
   "source": [
    "sns.distplot(df['flight_time'])"
   ]
  },
  {
   "cell_type": "markdown",
   "metadata": {},
   "source": [
    "#### 8b. Scale Flight Time feature"
   ]
  },
  {
   "cell_type": "code",
   "execution_count": 26,
   "metadata": {},
   "outputs": [],
   "source": [
    "df['flight_time'] = m_scaler.fit_transform(df[['flight_time']])"
   ]
  },
  {
   "cell_type": "code",
   "execution_count": 27,
   "metadata": {},
   "outputs": [
    {
     "data": {
      "text/plain": [
       "<AxesSubplot:xlabel='flight_time', ylabel='Density'>"
      ]
     },
     "execution_count": 27,
     "metadata": {},
     "output_type": "execute_result"
    },
    {
     "data": {
      "image/png": "[encoded data removed]",
      "text/plain": [
       "<Figure size 432x288 with 1 Axes>"
      ]
     },
     "metadata": {
      "needs_background": "light"
     },
     "output_type": "display_data"
    }
   ],
   "source": [
    "sns.distplot(df['flight_time'])"
   ]
  },
  {
   "cell_type": "code",
   "execution_count": 28,
   "metadata": {},
   "outputs": [],
   "source": [
    "# Drop unwanted columns\n",
    "df.drop(['ID', 'FLTID', 'DATOP'], axis=1, inplace=True)"
   ]
  },
  {
   "cell_type": "code",
   "execution_count": 29,
   "metadata": {
    "scrolled": true
   },
   "outputs": [
    {
     "data": {
      "text/plain": [
       "Index(['DEPSTN', 'ARRSTN', 'STATUS', 'AC', 'train', 'flight_time'], dtype='object')"
      ]
     },
     "execution_count": 29,
     "metadata": {},
     "output_type": "execute_result"
    }
   ],
   "source": [
    "df.columns"
   ]
  },
  {
   "cell_type": "markdown",
   "metadata": {},
   "source": [
    "#### 8c. Respliting (Train and Test)\n",
    "    For Leave one out encoding we will need to split data into train and test set"
   ]
  },
  {
   "cell_type": "code",
   "execution_count": 30,
   "metadata": {
    "scrolled": true
   },
   "outputs": [],
   "source": [
    "tr_df = df[df['train'] == 1] # Train Data\n",
    "te_df = df[df['train'] == 0] # Validation Data"
   ]
  },
  {
   "cell_type": "markdown",
   "metadata": {},
   "source": [
    "#### 8d. Encoding (Binary Encoder)"
   ]
  },
  {
   "cell_type": "code",
   "execution_count": 31,
   "metadata": {},
   "outputs": [],
   "source": [
    "# Encoder Variable\n",
    "encoder = ce.leave_one_out.LeaveOneOutEncoder(cols=['DEPSTN', 'ARRSTN', 'AC', 'STATUS'], return_df=True)\n",
    "\n",
    "X1_en = encoder.fit_transform(tr_df, y) # Train Data Features\n",
    "te_dfx = encoder.transform(te_df) # Test data Features"
   ]
  },
  {
   "cell_type": "code",
   "execution_count": 32,
   "metadata": {},
   "outputs": [],
   "source": [
    "# Train set\n",
    "X1_en.drop(['train'], axis=1, inplace=True)\n",
    "\n",
    "# Test set\n",
    "te_dfx.drop(['train'], axis=1, inplace=True)"
   ]
  },
  {
   "cell_type": "markdown",
   "metadata": {},
   "source": [
    "#### 8e. Train Test Split data"
   ]
  },
  {
   "cell_type": "code",
   "execution_count": 33,
   "metadata": {},
   "outputs": [],
   "source": [
    "X_train1, X_test1, y_train1, y_test1 = train_test_split(X1_en, y, test_size=0.3, random_state=7)"
   ]
  },
  {
   "cell_type": "markdown",
   "metadata": {},
   "source": [
    "### 9. Model Evaluations"
   ]
  },
  {
   "cell_type": "markdown",
   "metadata": {},
   "source": [
    "#### 9a. Ridge Regression"
   ]
  },
  {
   "cell_type": "code",
   "execution_count": 34,
   "metadata": {},
   "outputs": [
    {
     "name": "stdout",
     "output_type": "stream",
     "text": [
      "112.6249111525227\n"
     ]
    }
   ],
   "source": [
    "rid = Ridge()\n",
    "\n",
    "rid.fit(X_train1, y_train1)\n",
    "\n",
    "y_rid = rid.predict(X_test1)\n",
    "\n",
    "print(np.sqrt(mean_squared_error(y_test1, y_rid)))"
   ]
  },
  {
   "cell_type": "markdown",
   "metadata": {},
   "source": [
    "#### 9b. Lasso Regression"
   ]
  },
  {
   "cell_type": "code",
   "execution_count": 35,
   "metadata": {},
   "outputs": [
    {
     "name": "stdout",
     "output_type": "stream",
     "text": [
      "112.62503798895592\n"
     ]
    }
   ],
   "source": [
    "ls = Lasso()\n",
    "\n",
    "ls.fit(X_train1, y_train1)\n",
    "\n",
    "y_ls = ls.predict(X_test1)\n",
    "\n",
    "print(np.sqrt(mean_squared_error(y_test1, y_ls)))"
   ]
  },
  {
   "cell_type": "markdown",
   "metadata": {},
   "source": [
    "#### 9c. XGBoost Regressor"
   ]
  },
  {
   "cell_type": "code",
   "execution_count": 36,
   "metadata": {},
   "outputs": [
    {
     "name": "stdout",
     "output_type": "stream",
     "text": [
      "2.718900674896797\n"
     ]
    }
   ],
   "source": [
    "xgbr = XGBRegressor()\n",
    "\n",
    "xgbr.fit(X_train1, y_train1)\n",
    "\n",
    "y_xgb = xgbr.predict(X_test1)\n",
    "\n",
    "print(np.sqrt(mean_squared_error(y_test1, y_xgb)))"
   ]
  },
  {
   "cell_type": "markdown",
   "metadata": {},
   "source": [
    "#### 9d. Multiple Algorithms"
   ]
  },
  {
   "cell_type": "code",
   "execution_count": 37,
   "metadata": {},
   "outputs": [
    {
     "data": {
      "text/html": [
       "<div>\n",
       "<style scoped>\n",
       "    .dataframe tbody tr th:only-of-type {\n",
       "        vertical-align: middle;\n",
       "    }\n",
       "\n",
       "    .dataframe tbody tr th {\n",
       "        vertical-align: top;\n",
       "    }\n",
       "\n",
       "    .dataframe thead th {\n",
       "        text-align: right;\n",
       "    }\n",
       "</style>\n",
       "<table border=\"1\" class=\"dataframe\">\n",
       "  <thead>\n",
       "    <tr style=\"text-align: right;\">\n",
       "      <th></th>\n",
       "      <th>Model</th>\n",
       "      <th>Train Accuracy</th>\n",
       "      <th>Test Accuracy</th>\n",
       "      <th>MAE score</th>\n",
       "      <th>RMSE score</th>\n",
       "    </tr>\n",
       "  </thead>\n",
       "  <tbody>\n",
       "    <tr>\n",
       "      <th>0</th>\n",
       "      <td>LS</td>\n",
       "      <td>0.043916</td>\n",
       "      <td>0.046662</td>\n",
       "      <td>55.37</td>\n",
       "      <td>112.625042</td>\n",
       "    </tr>\n",
       "    <tr>\n",
       "      <th>1</th>\n",
       "      <td>ABR</td>\n",
       "      <td>0.843483</td>\n",
       "      <td>0.831554</td>\n",
       "      <td>35.20</td>\n",
       "      <td>47.341525</td>\n",
       "    </tr>\n",
       "    <tr>\n",
       "      <th>2</th>\n",
       "      <td>GBR</td>\n",
       "      <td>0.999423</td>\n",
       "      <td>0.999094</td>\n",
       "      <td>0.81</td>\n",
       "      <td>3.471311</td>\n",
       "    </tr>\n",
       "    <tr>\n",
       "      <th>3</th>\n",
       "      <td>RI</td>\n",
       "      <td>0.043923</td>\n",
       "      <td>0.046664</td>\n",
       "      <td>55.38</td>\n",
       "      <td>112.624908</td>\n",
       "    </tr>\n",
       "    <tr>\n",
       "      <th>4</th>\n",
       "      <td>EN</td>\n",
       "      <td>0.043917</td>\n",
       "      <td>0.046662</td>\n",
       "      <td>55.37</td>\n",
       "      <td>112.625042</td>\n",
       "    </tr>\n",
       "    <tr>\n",
       "      <th>5</th>\n",
       "      <td>RFR</td>\n",
       "      <td>0.999817</td>\n",
       "      <td>0.999581</td>\n",
       "      <td>0.06</td>\n",
       "      <td>2.362202</td>\n",
       "    </tr>\n",
       "    <tr>\n",
       "      <th>6</th>\n",
       "      <td>LR</td>\n",
       "      <td>0.043923</td>\n",
       "      <td>0.046665</td>\n",
       "      <td>55.38</td>\n",
       "      <td>112.624864</td>\n",
       "    </tr>\n",
       "  </tbody>\n",
       "</table>\n",
       "</div>"
      ],
      "text/plain": [
       "  Model  Train Accuracy  Test Accuracy  MAE score  RMSE score\n",
       "0    LS        0.043916       0.046662      55.37  112.625042\n",
       "1   ABR        0.843483       0.831554      35.20   47.341525\n",
       "2   GBR        0.999423       0.999094       0.81    3.471311\n",
       "3    RI        0.043923       0.046664      55.38  112.624908\n",
       "4    EN        0.043917       0.046662      55.37  112.625042\n",
       "5   RFR        0.999817       0.999581       0.06    2.362202\n",
       "6    LR        0.043923       0.046665      55.38  112.624864"
      ]
     },
     "execution_count": 37,
     "metadata": {},
     "output_type": "execute_result"
    }
   ],
   "source": [
    "base_model(X_train1, X_test1, y_train1, y_test1)"
   ]
  },
  {
   "cell_type": "markdown",
   "metadata": {},
   "source": [
    "#### 9e. OLS Regression Analysis"
   ]
  },
  {
   "cell_type": "code",
   "execution_count": 38,
   "metadata": {},
   "outputs": [
    {
     "name": "stdout",
     "output_type": "stream",
     "text": [
      "                            OLS Regression Results                            \n",
      "==============================================================================\n",
      "Dep. Variable:                 target   R-squared:                       0.044\n",
      "Model:                            OLS   Adj. R-squared:                  0.044\n",
      "Method:                 Least Squares   F-statistic:                     693.5\n",
      "Date:                Wed, 22 Dec 2021   Prob (F-statistic):               0.00\n",
      "Time:                        13:49:18   Log-Likelihood:            -4.6545e+05\n",
      "No. Observations:               75483   AIC:                         9.309e+05\n",
      "Df Residuals:                   75477   BIC:                         9.310e+05\n",
      "Df Model:                           5                                         \n",
      "Covariance Type:            nonrobust                                         \n",
      "===============================================================================\n",
      "                  coef    std err          t      P>|t|      [0.025      0.975]\n",
      "-------------------------------------------------------------------------------\n",
      "const         -60.1049      2.105    -28.549      0.000     -64.231     -55.978\n",
      "DEPSTN          0.6419      0.025     25.513      0.000       0.593       0.691\n",
      "ARRSTN          0.6009      0.034     17.477      0.000       0.533       0.668\n",
      "STATUS          0.5493      0.027     20.101      0.000       0.496       0.603\n",
      "AC              0.4419      0.027     16.358      0.000       0.389       0.495\n",
      "flight_time   -37.3084     53.832     -0.693      0.488    -142.820      68.203\n",
      "==============================================================================\n",
      "Omnibus:                   112239.638   Durbin-Watson:                   2.003\n",
      "Prob(Omnibus):                  0.000   Jarque-Bera (JB):         70981601.481\n",
      "Skew:                           9.031   Prob(JB):                         0.00\n",
      "Kurtosis:                     152.139   Cond. No.                     1.28e+04\n",
      "==============================================================================\n",
      "\n",
      "Notes:\n",
      "[1] Standard Errors assume that the covariance matrix of the errors is correctly specified.\n",
      "[2] The condition number is large, 1.28e+04. This might indicate that there are\n",
      "strong multicollinearity or other numerical problems.\n"
     ]
    }
   ],
   "source": [
    "X_ols = sm.add_constant(X_train1)\n",
    "model = sm.OLS(y_train1, X_ols)\n",
    "results = model.fit()\n",
    "print(results.summary())"
   ]
  },
  {
   "cell_type": "code",
   "execution_count": 39,
   "metadata": {},
   "outputs": [
    {
     "name": "stdout",
     "output_type": "stream",
     "text": [
      "RMSE Score : 115.27\n"
     ]
    }
   ],
   "source": [
    "y_ols = results.predict(X_ols)\n",
    "\n",
    "print('RMSE Score :', round(np.sqrt(mean_squared_error(y_train1, y_ols)), 2))"
   ]
  },
  {
   "cell_type": "markdown",
   "metadata": {},
   "source": [
    "# B. Test Set"
   ]
  },
  {
   "cell_type": "code",
   "execution_count": 40,
   "metadata": {},
   "outputs": [],
   "source": [
    "def submit_output(test, model, name):\n",
    "    \"\"\"Function to get output as csv file\"\"\"\n",
    "    id_col = test_id\n",
    "    \n",
    "    model.fit(X_train1, y_train1) # Fit model\n",
    "    \n",
    "    preds = model.predict(test) # Predict on Test data\n",
    "    \n",
    "    x = {\n",
    "        'id': id_col,\n",
    "        'target': preds\n",
    "    }\n",
    "    \n",
    "    output = pd.DataFrame(x) # Convert to dataframe\n",
    "    \n",
    "    output.reset_index(drop=True) # Drop Index\n",
    "    \n",
    "    output.to_csv(name, index=False) # Convert to csv file"
   ]
  },
  {
   "cell_type": "markdown",
   "metadata": {},
   "source": [
    "### Output (CSV)"
   ]
  },
  {
   "cell_type": "code",
   "execution_count": 41,
   "metadata": {},
   "outputs": [],
   "source": [
    "submit_output(te_dfx, ls, 'ls_output.csv')"
   ]
  }
 ],
 "metadata": {
  "kernelspec": {
   "display_name": "Python 3 (ipykernel)",
   "language": "python",
   "name": "python3"
  },
  "language_info": {
   "codemirror_mode": {
    "name": "ipython",
    "version": 3
   },
   "file_extension": ".py",
   "mimetype": "text/x-python",
   "name": "python",
   "nbconvert_exporter": "python",
   "pygments_lexer": "ipython3",
   "version": "3.7.11"
  }
 },
 "nbformat": 4,
 "nbformat_minor": 2
}
