{
 "cells": [
  {
   "cell_type": "markdown",
   "id": "67a31fa7",
   "metadata": {},
   "source": [
    "# Data Preprocessing"
   ]
  },
  {
   "cell_type": "code",
   "execution_count": 1,
   "id": "281f2b68",
   "metadata": {},
   "outputs": [],
   "source": [
    "import numpy as np\n",
    "import pandas as pd\n",
    "\n",
    "import sys\n",
    "import sklearn.neighbors._base\n",
    "sys.modules['sklearn.neighbors.base'] = sklearn.neighbors._base\n",
    "from missingpy import MissForest\n",
    "from sklearn.preprocessing import OneHotEncoder, OrdinalEncoder, LabelEncoder\n",
    "import pycountry_convert as pc\n",
    "import pycountry\n",
    "from difflib import SequenceMatcher\n",
    "\n",
    "import warnings\n",
    "warnings.filterwarnings('ignore')"
   ]
  },
  {
   "cell_type": "markdown",
   "id": "a39537b3",
   "metadata": {},
   "source": [
    "## Load Data file"
   ]
  },
  {
   "cell_type": "code",
   "execution_count": 2,
   "id": "ae3cd3bf",
   "metadata": {},
   "outputs": [],
   "source": [
    "df = pd.read_csv(r'data/Train.csv')"
   ]
  },
  {
   "cell_type": "code",
   "execution_count": 3,
   "id": "777cb1dc",
   "metadata": {},
   "outputs": [
    {
     "data": {
      "text/plain": [
       "(4809, 23)"
      ]
     },
     "execution_count": 3,
     "metadata": {},
     "output_type": "execute_result"
    }
   ],
   "source": [
    "df.shape"
   ]
  },
  {
   "cell_type": "markdown",
   "id": "dc751951",
   "metadata": {},
   "source": [
    "### Null Values"
   ]
  },
  {
   "cell_type": "code",
   "execution_count": 4,
   "id": "400e8de0",
   "metadata": {},
   "outputs": [
    {
     "data": {
      "text/plain": [
       "ID                       0.000000\n",
       "country                  0.000000\n",
       "age_group                0.000000\n",
       "travel_with              0.231649\n",
       "total_female             0.000624\n",
       "total_male               0.001040\n",
       "purpose                  0.000000\n",
       "main_activity            0.000000\n",
       "info_source              0.000000\n",
       "tour_arrangement         0.000000\n",
       "package_transport_int    0.000000\n",
       "package_accomodation     0.000000\n",
       "package_food             0.000000\n",
       "package_transport_tz     0.000000\n",
       "package_sightseeing      0.000000\n",
       "package_guided_tour      0.000000\n",
       "package_insurance        0.000000\n",
       "night_mainland           0.000000\n",
       "night_zanzibar           0.000000\n",
       "payment_mode             0.000000\n",
       "first_trip_tz            0.000000\n",
       "most_impressing          0.065086\n",
       "total_cost               0.000000\n",
       "dtype: float64"
      ]
     },
     "execution_count": 4,
     "metadata": {},
     "output_type": "execute_result"
    }
   ],
   "source": [
    "df.isnull().sum()/df.shape[0]"
   ]
  },
  {
   "cell_type": "markdown",
   "id": "31b0cb63",
   "metadata": {},
   "source": [
    "## Imputing Missing Values\n",
    "\n",
    "The following features need imputing for its missing values -\n",
    "1. travel_with     | Categorical | 1114 | 23%\n",
    "2. most_impressing | Categorical | 313  | 6.5%\n",
    "3. total_male      | Numerical   | 5    | <0%\n",
    "4. total_female    | Numerical   | 3    | <0%\n",
    "\n",
    "Categorical variables :\n",
    "    Imputing all the categorical fields using MissForest Imputer from missingpy library since more than 20% of the data is missing for the feature 'travel_with'. For using MissForest Imputer we need to first encode categorical data for the algorithm to function. Hence we will manually encode the categorical variables for ease of inversion to categorical data type.\n",
    "    \n",
    "Numerical variables :\n",
    "    The variables total male and total female have a few null values but for a few rows both variables show 0 number of tourists attending the tour. These ghost numbers will be replaced with the mean for computing purposes."
   ]
  },
  {
   "cell_type": "code",
   "execution_count": 5,
   "id": "6ab8d053",
   "metadata": {},
   "outputs": [],
   "source": [
    "# Dictionary for encoding the categorical features\n",
    "\n",
    "# Most Impressing Feature\n",
    "mi = {\n",
    "    'Friendly People' : 0, \n",
    "    'Wonderful Country, Landscape, Nature': 1,\n",
    "    'Excellent Experience': 2,\n",
    "    'No comments': 3,\n",
    "    ' Wildlife': 4,\n",
    "    'Good service': 5, \n",
    "    'Satisfies and Hope Come Back': 6\n",
    "}\n",
    "\n",
    "# Travel With feature\n",
    "trw = {\n",
    "    'Friends/Relatives': 0, \n",
    "    'Alone': 1, \n",
    "    'Spouse': 2, \n",
    "    'Children': 3,\n",
    "    'Spouse and Children': 4\n",
    "}"
   ]
  },
  {
   "cell_type": "code",
   "execution_count": 6,
   "id": "d57ba38a",
   "metadata": {},
   "outputs": [],
   "source": [
    "def find_value(x, dictionary):\n",
    "    \"\"\"Find the value from dictionary for a key\"\"\"\n",
    "    for k, v in dictionary.items():\n",
    "        if x == k:\n",
    "            return int(v)\n",
    "\n",
    "def find_key(x, dictionary):\n",
    "    \"\"\"Find the key from dictionary for a value\"\"\"\n",
    "    for k, v in dictionary.items():\n",
    "        if x == v:\n",
    "            return k"
   ]
  },
  {
   "cell_type": "code",
   "execution_count": 7,
   "id": "2d03c7ab",
   "metadata": {},
   "outputs": [],
   "source": [
    "# Most Impressing\n",
    "df['most_impressing'] = df['most_impressing'].apply(lambda x : find_value(x, mi))\n",
    "\n",
    "# Travel With\n",
    "df['travel_with'] = df['travel_with'].apply(lambda x : find_value(x, trw))\n",
    "\n",
    "## Ghost Tourists\n",
    "cond1 = df['total_male']==0 # Condition: Male Tourist is 0\n",
    "cond2 = df['total_female']==0 # Condition: Female Tourist is 0\n",
    "male_avg = round(df['total_male'].mean()) # Average Make tourists in the data\n",
    "female_avg = round(df['total_female'].mean()) # Average Female tourists in the data\n",
    "\n",
    "# Total Male\n",
    "df.loc[cond1 & cond2, 'total_male'] = male_avg\n",
    "\n",
    "# Total Female\n",
    "df.loc[cond1 & cond2, 'total_female'] = female_avg"
   ]
  },
  {
   "cell_type": "code",
   "execution_count": 8,
   "id": "866bab1b",
   "metadata": {},
   "outputs": [
    {
     "name": "stdout",
     "output_type": "stream",
     "text": [
      "Iteration: 0\n",
      "Iteration: 1\n",
      "Iteration: 2\n",
      "Iteration: 3\n",
      "Iteration: 4\n"
     ]
    }
   ],
   "source": [
    "# Imputer\n",
    "imputer = MissForest(random_state=7)\n",
    "X = df.drop(['ID'], axis=1)\n",
    "cat_cols = X.select_dtypes(include='object').columns\n",
    "\n",
    "# Encode categorical data\n",
    "le = LabelEncoder()\n",
    "for i in cat_cols:\n",
    "    X[i] = le.fit_transform(X[i])\n",
    "\n",
    "# Impute Missing Values in 'travel_with' feature\n",
    "X_imputed = imputer.fit_transform(X)"
   ]
  },
  {
   "cell_type": "code",
   "execution_count": 9,
   "id": "9b5c1b1c",
   "metadata": {},
   "outputs": [],
   "source": [
    "X_clean = pd.DataFrame(X_imputed, columns=X.columns)"
   ]
  },
  {
   "cell_type": "code",
   "execution_count": 10,
   "id": "6efa9041",
   "metadata": {},
   "outputs": [],
   "source": [
    "# Most Impressing\n",
    "df['most_impressing'] = X_clean['most_impressing'].apply(lambda x : find_key(round(x), mi))\n",
    "\n",
    "# Travel With\n",
    "df['travel_with'] = X_clean['travel_with'].apply(lambda x : find_key(round(x), trw))\n",
    "\n",
    "# Male Tourists\n",
    "df['total_male'].fillna(male_avg, inplace=True)\n",
    "\n",
    "# Female Tourists\n",
    "df['total_female'].fillna(female_avg, inplace=True)"
   ]
  },
  {
   "cell_type": "code",
   "execution_count": 11,
   "id": "3ce65836",
   "metadata": {},
   "outputs": [
    {
     "data": {
      "text/plain": [
       "Alone                  2356\n",
       "Spouse                 1018\n",
       "Friends/Relatives       903\n",
       "Spouse and Children     368\n",
       "Children                164\n",
       "Name: travel_with, dtype: int64"
      ]
     },
     "execution_count": 11,
     "metadata": {},
     "output_type": "execute_result"
    }
   ],
   "source": [
    "df['travel_with'].value_counts()"
   ]
  },
  {
   "cell_type": "markdown",
   "id": "2d31a8d2",
   "metadata": {},
   "source": [
    "## Country Name Anomalies\n",
    "\n",
    "The following country name inputs were entered incorrectly. We will have to correct it for the data analysis\n",
    "\n",
    "1. SWIZERLAND : SWITZERLAND\n",
    "2. MALT : MALTA\n",
    "3. UKRAIN : UKRAINE\n",
    "4. BURGARIA : BULGARIA\n",
    "5. TRINIDAD TOBACCO : TRINIDAD AND TOBAGO\n",
    "6. COMORO : COMOROS\n",
    "7. PHILIPINES : PHILIPPINES\n",
    "8. DJIBOUT : DJIBOUTI\n",
    "9. MORROCO : MOROCCO\n",
    "10. SCOTLAND : UNITED KINGDOM\n",
    "\n",
    "Since we need to match the country names provided in the pycountry library for Geospatial analysis we convert them using a function."
   ]
  },
  {
   "cell_type": "code",
   "execution_count": 12,
   "id": "cee026fe",
   "metadata": {},
   "outputs": [],
   "source": [
    "df['country'] = df['country'].str.title()"
   ]
  },
  {
   "cell_type": "code",
   "execution_count": 13,
   "id": "afe5f660",
   "metadata": {},
   "outputs": [
    {
     "data": {
      "text/plain": [
       "[{'AF': 'Afghanistan'},\n",
       " {'AL': 'Albania'},\n",
       " {'DZ': 'Algeria'},\n",
       " {'AS': 'American Samoa'},\n",
       " {'AD': 'Andorra'},\n",
       " {'AO': 'Angola'},\n",
       " {'AI': 'Anguilla'},\n",
       " {'AQ': 'Antarctica'},\n",
       " {'AG': 'Antigua and Barbuda'},\n",
       " {'AR': 'Argentina'},\n",
       " {'AM': 'Armenia'},\n",
       " {'AW': 'Aruba'},\n",
       " {'AU': 'Australia'},\n",
       " {'AT': 'Austria'},\n",
       " {'AZ': 'Azerbaijan'},\n",
       " {'BS': 'Bahamas'},\n",
       " {'BH': 'Bahrain'},\n",
       " {'BD': 'Bangladesh'},\n",
       " {'BB': 'Barbados'},\n",
       " {'BY': 'Belarus'},\n",
       " {'BE': 'Belgium'},\n",
       " {'BZ': 'Belize'},\n",
       " {'BJ': 'Benin'},\n",
       " {'BM': 'Bermuda'},\n",
       " {'BT': 'Bhutan'},\n",
       " {'BO': 'Bolivia, Plurinational State of'},\n",
       " {'BQ': 'Bonaire, Sint Eustatius and Saba'},\n",
       " {'BA': 'Bosnia and Herzegovina'},\n",
       " {'BW': 'Botswana'},\n",
       " {'BV': 'Bouvet Island'},\n",
       " {'BR': 'Brazil'},\n",
       " {'IO': 'British Indian Ocean Territory'},\n",
       " {'BN': 'Brunei Darussalam'},\n",
       " {'BG': 'Bulgaria'},\n",
       " {'BF': 'Burkina Faso'},\n",
       " {'BI': 'Burundi'},\n",
       " {'CV': 'Cabo Verde'},\n",
       " {'KH': 'Cambodia'},\n",
       " {'CM': 'Cameroon'},\n",
       " {'CA': 'Canada'},\n",
       " {'KY': 'Cayman Islands'},\n",
       " {'CF': 'Central African Republic'},\n",
       " {'TD': 'Chad'},\n",
       " {'CL': 'Chile'},\n",
       " {'CN': 'China'},\n",
       " {'CX': 'Christmas Island'},\n",
       " {'CC': 'Cocos (Keeling) Islands'},\n",
       " {'CO': 'Colombia'},\n",
       " {'KM': 'Comoros'},\n",
       " {'CG': 'Congo'},\n",
       " {'CD': 'Congo, The Democratic Republic of the'},\n",
       " {'CK': 'Cook Islands'},\n",
       " {'CR': 'Costa Rica'},\n",
       " {'HR': 'Croatia'},\n",
       " {'CU': 'Cuba'},\n",
       " {'CW': 'Curaçao'},\n",
       " {'CY': 'Cyprus'},\n",
       " {'CZ': 'Czechia'},\n",
       " {'CI': \"Côte d'Ivoire\"},\n",
       " {'DK': 'Denmark'},\n",
       " {'DJ': 'Djibouti'},\n",
       " {'DM': 'Dominica'},\n",
       " {'DO': 'Dominican Republic'},\n",
       " {'EC': 'Ecuador'},\n",
       " {'EG': 'Egypt'},\n",
       " {'SV': 'El Salvador'},\n",
       " {'GQ': 'Equatorial Guinea'},\n",
       " {'ER': 'Eritrea'},\n",
       " {'EE': 'Estonia'},\n",
       " {'SZ': 'Eswatini'},\n",
       " {'ET': 'Ethiopia'},\n",
       " {'FK': 'Falkland Islands (Malvinas)'},\n",
       " {'FO': 'Faroe Islands'},\n",
       " {'FJ': 'Fiji'},\n",
       " {'FI': 'Finland'},\n",
       " {'FR': 'France'},\n",
       " {'GF': 'French Guiana'},\n",
       " {'PF': 'French Polynesia'},\n",
       " {'TF': 'French Southern Territories'},\n",
       " {'GA': 'Gabon'},\n",
       " {'GM': 'Gambia'},\n",
       " {'GE': 'Georgia'},\n",
       " {'DE': 'Germany'},\n",
       " {'GH': 'Ghana'},\n",
       " {'GI': 'Gibraltar'},\n",
       " {'GR': 'Greece'},\n",
       " {'GL': 'Greenland'},\n",
       " {'GD': 'Grenada'},\n",
       " {'GP': 'Guadeloupe'},\n",
       " {'GU': 'Guam'},\n",
       " {'GT': 'Guatemala'},\n",
       " {'GG': 'Guernsey'},\n",
       " {'GN': 'Guinea'},\n",
       " {'GW': 'Guinea-Bissau'},\n",
       " {'GY': 'Guyana'},\n",
       " {'HT': 'Haiti'},\n",
       " {'HM': 'Heard Island and McDonald Islands'},\n",
       " {'VA': 'Holy See (Vatican City State)'},\n",
       " {'HN': 'Honduras'},\n",
       " {'HK': 'Hong Kong'},\n",
       " {'HU': 'Hungary'},\n",
       " {'IS': 'Iceland'},\n",
       " {'IN': 'India'},\n",
       " {'ID': 'Indonesia'},\n",
       " {'IR': 'Iran, Islamic Republic of'},\n",
       " {'IQ': 'Iraq'},\n",
       " {'IE': 'Ireland'},\n",
       " {'IM': 'Isle of Man'},\n",
       " {'IL': 'Israel'},\n",
       " {'IT': 'Italy'},\n",
       " {'JM': 'Jamaica'},\n",
       " {'JP': 'Japan'},\n",
       " {'JE': 'Jersey'},\n",
       " {'JO': 'Jordan'},\n",
       " {'KZ': 'Kazakhstan'},\n",
       " {'KE': 'Kenya'},\n",
       " {'KI': 'Kiribati'},\n",
       " {'KP': \"Korea, Democratic People's Republic of\"},\n",
       " {'KR': 'Korea, Republic of'},\n",
       " {'KW': 'Kuwait'},\n",
       " {'KG': 'Kyrgyzstan'},\n",
       " {'LA': \"Lao People's Democratic Republic\"},\n",
       " {'LV': 'Latvia'},\n",
       " {'LB': 'Lebanon'},\n",
       " {'LS': 'Lesotho'},\n",
       " {'LR': 'Liberia'},\n",
       " {'LY': 'Libya'},\n",
       " {'LI': 'Liechtenstein'},\n",
       " {'LT': 'Lithuania'},\n",
       " {'LU': 'Luxembourg'},\n",
       " {'MO': 'Macao'},\n",
       " {'MG': 'Madagascar'},\n",
       " {'MW': 'Malawi'},\n",
       " {'MY': 'Malaysia'},\n",
       " {'MV': 'Maldives'},\n",
       " {'ML': 'Mali'},\n",
       " {'MT': 'Malta'},\n",
       " {'MH': 'Marshall Islands'},\n",
       " {'MQ': 'Martinique'},\n",
       " {'MR': 'Mauritania'},\n",
       " {'MU': 'Mauritius'},\n",
       " {'YT': 'Mayotte'},\n",
       " {'MX': 'Mexico'},\n",
       " {'FM': 'Micronesia, Federated States of'},\n",
       " {'MD': 'Moldova, Republic of'},\n",
       " {'MC': 'Monaco'},\n",
       " {'MN': 'Mongolia'},\n",
       " {'ME': 'Montenegro'},\n",
       " {'MS': 'Montserrat'},\n",
       " {'MA': 'Morocco'},\n",
       " {'MZ': 'Mozambique'},\n",
       " {'MM': 'Myanmar'},\n",
       " {'NA': 'Namibia'},\n",
       " {'NR': 'Nauru'},\n",
       " {'NP': 'Nepal'},\n",
       " {'NL': 'Netherlands'},\n",
       " {'NC': 'New Caledonia'},\n",
       " {'NZ': 'New Zealand'},\n",
       " {'NI': 'Nicaragua'},\n",
       " {'NE': 'Niger'},\n",
       " {'NG': 'Nigeria'},\n",
       " {'NU': 'Niue'},\n",
       " {'NF': 'Norfolk Island'},\n",
       " {'MK': 'North Macedonia'},\n",
       " {'MP': 'Northern Mariana Islands'},\n",
       " {'NO': 'Norway'},\n",
       " {'OM': 'Oman'},\n",
       " {'PK': 'Pakistan'},\n",
       " {'PW': 'Palau'},\n",
       " {'PS': 'Palestine, State of'},\n",
       " {'PA': 'Panama'},\n",
       " {'PG': 'Papua New Guinea'},\n",
       " {'PY': 'Paraguay'},\n",
       " {'PE': 'Peru'},\n",
       " {'PH': 'Philippines'},\n",
       " {'PN': 'Pitcairn'},\n",
       " {'PL': 'Poland'},\n",
       " {'PT': 'Portugal'},\n",
       " {'PR': 'Puerto Rico'},\n",
       " {'QA': 'Qatar'},\n",
       " {'RO': 'Romania'},\n",
       " {'RU': 'Russian Federation'},\n",
       " {'RW': 'Rwanda'},\n",
       " {'RE': 'Réunion'},\n",
       " {'BL': 'Saint Barthélemy'},\n",
       " {'SH': 'Saint Helena, Ascension and Tristan da Cunha'},\n",
       " {'KN': 'Saint Kitts and Nevis'},\n",
       " {'LC': 'Saint Lucia'},\n",
       " {'MF': 'Saint Martin (French part)'},\n",
       " {'PM': 'Saint Pierre and Miquelon'},\n",
       " {'VC': 'Saint Vincent and the Grenadines'},\n",
       " {'WS': 'Samoa'},\n",
       " {'SM': 'San Marino'},\n",
       " {'ST': 'Sao Tome and Principe'},\n",
       " {'SA': 'Saudi Arabia'},\n",
       " {'SN': 'Senegal'},\n",
       " {'RS': 'Serbia'},\n",
       " {'SC': 'Seychelles'},\n",
       " {'SL': 'Sierra Leone'},\n",
       " {'SG': 'Singapore'},\n",
       " {'SX': 'Sint Maarten (Dutch part)'},\n",
       " {'SK': 'Slovakia'},\n",
       " {'SI': 'Slovenia'},\n",
       " {'SB': 'Solomon Islands'},\n",
       " {'SO': 'Somalia'},\n",
       " {'ZA': 'South Africa'},\n",
       " {'GS': 'South Georgia and the South Sandwich Islands'},\n",
       " {'SS': 'South Sudan'},\n",
       " {'ES': 'Spain'},\n",
       " {'LK': 'Sri Lanka'},\n",
       " {'SD': 'Sudan'},\n",
       " {'SR': 'Suriname'},\n",
       " {'SJ': 'Svalbard and Jan Mayen'},\n",
       " {'SE': 'Sweden'},\n",
       " {'CH': 'Switzerland'},\n",
       " {'SY': 'Syrian Arab Republic'},\n",
       " {'TW': 'Taiwan, Province of China'},\n",
       " {'TJ': 'Tajikistan'},\n",
       " {'TZ': 'Tanzania, United Republic of'},\n",
       " {'TH': 'Thailand'},\n",
       " {'TL': 'Timor-Leste'},\n",
       " {'TG': 'Togo'},\n",
       " {'TK': 'Tokelau'},\n",
       " {'TO': 'Tonga'},\n",
       " {'TT': 'Trinidad and Tobago'},\n",
       " {'TN': 'Tunisia'},\n",
       " {'TR': 'Turkey'},\n",
       " {'TM': 'Turkmenistan'},\n",
       " {'TC': 'Turks and Caicos Islands'},\n",
       " {'TV': 'Tuvalu'},\n",
       " {'UG': 'Uganda'},\n",
       " {'UA': 'Ukraine'},\n",
       " {'AE': 'United Arab Emirates'},\n",
       " {'GB': 'United Kingdom'},\n",
       " {'US': 'United States'},\n",
       " {'UM': 'United States Minor Outlying Islands'},\n",
       " {'UY': 'Uruguay'},\n",
       " {'UZ': 'Uzbekistan'},\n",
       " {'VU': 'Vanuatu'},\n",
       " {'VE': 'Venezuela, Bolivarian Republic of'},\n",
       " {'VN': 'Viet Nam'},\n",
       " {'VG': 'Virgin Islands, British'},\n",
       " {'VI': 'Virgin Islands, U.S.'},\n",
       " {'WF': 'Wallis and Futuna'},\n",
       " {'EH': 'Western Sahara'},\n",
       " {'YE': 'Yemen'},\n",
       " {'ZM': 'Zambia'},\n",
       " {'ZW': 'Zimbabwe'},\n",
       " {'AX': 'Åland Islands'}]"
      ]
     },
     "execution_count": 13,
     "metadata": {},
     "output_type": "execute_result"
    }
   ],
   "source": [
    "[{country.alpha_2: country.name} for country in sorted(pycountry.countries, key=lambda x: x.name)]"
   ]
  },
  {
   "cell_type": "code",
   "execution_count": 14,
   "id": "89716781",
   "metadata": {},
   "outputs": [],
   "source": [
    "# Corrected country names\n",
    "c_name = {\n",
    "    'Swizerland': 'Switzerland',\n",
    "    'Malt': 'Malta',\n",
    "    'Ukrain': 'Ukraine',\n",
    "    'Burgaria': 'Bulgaria',\n",
    "    'Trinidad Tobacco': 'Trinidad and Tobago',\n",
    "    'Comoro': 'Comoros',\n",
    "    'Philipines': 'Philippines',\n",
    "    'Djibout': 'Djibouti',\n",
    "    'Morroco': 'Morocco',\n",
    "    'Scotland': 'United Kingdom',\n",
    "    'United States Of America': 'United States',\n",
    "    'Costarica': 'Costa Rica',\n",
    "    'Uae': 'United Arab Emirates',\n",
    "    'Drc': 'Congo',\n",
    "    'Korea': 'Korea, Republic of',\n",
    "    'Russia': 'Russian Federation',\n",
    "    'Iran': 'Iran',\n",
    "    'Czech Republic': 'Czechia'\n",
    "}\n",
    "\n",
    "# Applying correction on the function\n",
    "df['country'] = df['country'].apply(lambda x: c_name.get(x, x))"
   ]
  },
  {
   "cell_type": "code",
   "execution_count": 15,
   "id": "d9b1837c",
   "metadata": {},
   "outputs": [
    {
     "data": {
      "text/plain": [
       "array(['Switzerland', 'United Kingdom', 'China', 'South Africa',\n",
       "       'United States', 'Nigeria', 'India', 'Brazil', 'Canada', 'Malta',\n",
       "       'Mozambique', 'Rwanda', 'Austria', 'Myanmar', 'Germany', 'Kenya',\n",
       "       'Algeria', 'Ireland', 'Denmark', 'Spain', 'France', 'Italy',\n",
       "       'Egypt', 'Qatar', 'Malawi', 'Japan', 'Sweden', 'Netherlands',\n",
       "       'United Arab Emirates', 'Uganda', 'Australia', 'Yemen',\n",
       "       'New Zealand', 'Belgium', 'Norway', 'Zimbabwe', 'Zambia', 'Congo',\n",
       "       'Bulgaria', 'Pakistan', 'Greece', 'Mauritius', 'Oman', 'Portugal',\n",
       "       'Korea, Republic of', 'Swaziland', 'Tunisia', 'Kuwait', 'Dominica',\n",
       "       'Israel', 'Finland', 'Czechia', 'Ukraine', 'Ethiopia', 'Burundi',\n",
       "       'Russian Federation', 'Ghana', 'Niger', 'Malaysia', 'Colombia',\n",
       "       'Luxembourg', 'Nepal', 'Poland', 'Singapore', 'Lithuania',\n",
       "       'Hungary', 'Indonesia', 'Turkey', 'Trinidad and Tobago', 'Iraq',\n",
       "       'Slovenia', 'Comoros', 'Sri Lanka', 'Iran', 'Montenegro', 'Angola',\n",
       "       'Lebanon', 'Slovakia', 'Romania', 'Mexico', 'Latvia', 'Croatia',\n",
       "       'Cape Verde', 'Sudan', 'Costa Rica', 'Chile', 'Namibia', 'Taiwan',\n",
       "       'Serbia', 'Lesotho', 'Georgia', 'Philippines', 'Ivory Coast',\n",
       "       'Madagascar', 'Djibouti', 'Cyprus', 'Argentina', 'Uruguay',\n",
       "       'Morocco', 'Thailand', 'Bermuda', 'Estonia'], dtype=object)"
      ]
     },
     "execution_count": 15,
     "metadata": {},
     "output_type": "execute_result"
    }
   ],
   "source": [
    "df['country'].unique()"
   ]
  },
  {
   "cell_type": "markdown",
   "id": "adc30d5a",
   "metadata": {},
   "source": [
    "### Output"
   ]
  },
  {
   "cell_type": "code",
   "execution_count": 17,
   "id": "de2c518d",
   "metadata": {},
   "outputs": [],
   "source": [
    "df.to_csv(r'data/clean_train.csv', index=False)"
   ]
  },
  {
   "cell_type": "code",
   "execution_count": null,
   "id": "92ba9a34",
   "metadata": {},
   "outputs": [],
   "source": []
  }
 ],
 "metadata": {
  "kernelspec": {
   "display_name": "Python 3 (ipykernel)",
   "language": "python",
   "name": "python3"
  },
  "language_info": {
   "codemirror_mode": {
    "name": "ipython",
    "version": 3
   },
   "file_extension": ".py",
   "mimetype": "text/x-python",
   "name": "python",
   "nbconvert_exporter": "python",
   "pygments_lexer": "ipython3",
   "version": "3.7.11"
  }
 },
 "nbformat": 4,
 "nbformat_minor": 5
}
