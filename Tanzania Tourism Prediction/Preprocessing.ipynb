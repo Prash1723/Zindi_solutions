{
 "cells": [
  {
   "cell_type": "code",
   "execution_count": 1,
   "id": "281f2b68",
   "metadata": {},
   "outputs": [],
   "source": [
    "import numpy as np\n",
    "import pandas as pd\n",
    "\n",
    "import sys\n",
    "import sklearn.neighbors._base\n",
    "sys.modules['sklearn.neighbors.base'] = sklearn.neighbors._base\n",
    "from missingpy import MissForest\n",
    "from sklearn.preprocessing import OneHotEncoder, OrdinalEncoder, LabelEncoder"
   ]
  },
  {
   "cell_type": "code",
   "execution_count": 2,
   "id": "ae3cd3bf",
   "metadata": {},
   "outputs": [],
   "source": [
    "df = pd.read_csv(r'data/Train.csv')"
   ]
  },
  {
   "cell_type": "code",
   "execution_count": 3,
   "id": "777cb1dc",
   "metadata": {},
   "outputs": [
    {
     "data": {
      "text/plain": [
       "(4809, 23)"
      ]
     },
     "execution_count": 3,
     "metadata": {},
     "output_type": "execute_result"
    }
   ],
   "source": [
    "df.shape"
   ]
  },
  {
   "cell_type": "code",
   "execution_count": 4,
   "id": "400e8de0",
   "metadata": {},
   "outputs": [
    {
     "data": {
      "text/plain": [
       "ID                       0.000000\n",
       "country                  0.000000\n",
       "age_group                0.000000\n",
       "travel_with              0.231649\n",
       "total_female             0.000624\n",
       "total_male               0.001040\n",
       "purpose                  0.000000\n",
       "main_activity            0.000000\n",
       "info_source              0.000000\n",
       "tour_arrangement         0.000000\n",
       "package_transport_int    0.000000\n",
       "package_accomodation     0.000000\n",
       "package_food             0.000000\n",
       "package_transport_tz     0.000000\n",
       "package_sightseeing      0.000000\n",
       "package_guided_tour      0.000000\n",
       "package_insurance        0.000000\n",
       "night_mainland           0.000000\n",
       "night_zanzibar           0.000000\n",
       "payment_mode             0.000000\n",
       "first_trip_tz            0.000000\n",
       "most_impressing          0.065086\n",
       "total_cost               0.000000\n",
       "dtype: float64"
      ]
     },
     "execution_count": 4,
     "metadata": {},
     "output_type": "execute_result"
    }
   ],
   "source": [
    "df.isnull().sum()/df.shape[0]"
   ]
  },
  {
   "cell_type": "markdown",
   "id": "31b0cb63",
   "metadata": {},
   "source": [
    "## Imputing Missing Values\n",
    "\n",
    "The following features need imputing for its missing values -\n",
    "1. travel_with     | Categorical | 1114 | 23%\n",
    "2. most_impressing | Categorical | 313  | 6.5%\n",
    "3. total_male      | Numerical   | 5    | <0%\n",
    "4. total_female    | Numerical   | 3    | <0%\n",
    "\n",
    "Imputing all the fields using MissForest Imputer from missingpy library since more than 20% of the data is missing for the feature 'travel_with'. For using MissForest Imputer we need to first encode categorical data for the algorithm to function. Hence we will manually encode the categorical variables for ease of inversion to categorical data type."
   ]
  },
  {
   "cell_type": "code",
   "execution_count": 5,
   "id": "6ab8d053",
   "metadata": {},
   "outputs": [],
   "source": [
    "# Dictionary for encoding the categorical features\n",
    "\n",
    "# Most Impressing Feature\n",
    "mi = {\n",
    "    'Friendly People' : 0, \n",
    "    'Wonderful Country, Landscape, Nature': 1,\n",
    "    'Excellent Experience': 2,\n",
    "    'No comments': 3,\n",
    "    ' Wildlife': 4,\n",
    "    'Good service': 5, \n",
    "    'Satisfies and Hope Come Back': 6\n",
    "}\n",
    "\n",
    "# Travel With feature\n",
    "trw = {\n",
    "    'Friends/Relatives': 0, \n",
    "    'Alone': 1, \n",
    "    'Spouse': 2, \n",
    "    'Children': 3,\n",
    "    'Spouse and Children': 4\n",
    "}"
   ]
  },
  {
   "cell_type": "code",
   "execution_count": 6,
   "id": "d57ba38a",
   "metadata": {},
   "outputs": [],
   "source": [
    "def find_value(x, dictionary):\n",
    "    \"\"\"Find the value from dictionary for a key\"\"\"\n",
    "    for k, v in dictionary.items():\n",
    "        if x == k:\n",
    "            return int(v)\n",
    "\n",
    "def find_key(x, dictionary):\n",
    "    \"\"\"Find the key from dictionary for a value\"\"\"\n",
    "    for k, v in dictionary.items():\n",
    "        if x == v:\n",
    "            return k"
   ]
  },
  {
   "cell_type": "code",
   "execution_count": 7,
   "id": "2d03c7ab",
   "metadata": {},
   "outputs": [],
   "source": [
    "# Most Impressing\n",
    "df['most_impressing'] = df['most_impressing'].apply(lambda x : find_value(x, mi))\n",
    "\n",
    "# Travel With\n",
    "df['travel_with'] = df['travel_with'].apply(lambda x : find_value(x, trw))"
   ]
  },
  {
   "cell_type": "code",
   "execution_count": 8,
   "id": "866bab1b",
   "metadata": {},
   "outputs": [
    {
     "name": "stdout",
     "output_type": "stream",
     "text": [
      "Iteration: 0\n",
      "Iteration: 1\n",
      "Iteration: 2\n",
      "Iteration: 3\n"
     ]
    }
   ],
   "source": [
    "# Imputer\n",
    "imputer = MissForest()\n",
    "X = df.drop(['ID'], axis=1)\n",
    "cat_cols = X.select_dtypes(include='object').columns\n",
    "\n",
    "# Encode categorical data\n",
    "le = LabelEncoder()\n",
    "for i in cat_cols:\n",
    "    X[i] = le.fit_transform(X[i])\n",
    "\n",
    "# Impute Missing Values in 'travel_with' feature\n",
    "X_imputed = imputer.fit_transform(X)"
   ]
  },
  {
   "cell_type": "code",
   "execution_count": 9,
   "id": "9b5c1b1c",
   "metadata": {},
   "outputs": [],
   "source": [
    "X_clean = pd.DataFrame(X_imputed, columns=X.columns)"
   ]
  },
  {
   "cell_type": "code",
   "execution_count": 10,
   "id": "f9ae2352",
   "metadata": {},
   "outputs": [
    {
     "data": {
      "text/plain": [
       "0.00    1541\n",
       "4.00    1038\n",
       "3.00     745\n",
       "1.00     507\n",
       "5.00     365\n",
       "        ... \n",
       "3.03       1\n",
       "1.17       1\n",
       "3.68       1\n",
       "0.91       1\n",
       "3.04       1\n",
       "Name: most_impressing, Length: 189, dtype: int64"
      ]
     },
     "execution_count": 10,
     "metadata": {},
     "output_type": "execute_result"
    }
   ],
   "source": [
    "X_clean['most_impressing'].value_counts()"
   ]
  },
  {
   "cell_type": "code",
   "execution_count": 11,
   "id": "6efa9041",
   "metadata": {},
   "outputs": [],
   "source": [
    "# Most Impressing\n",
    "df['most_impressing'] = X_clean['most_impressing'].apply(lambda x : find_key(round(x), mi))\n",
    "\n",
    "# Travel With\n",
    "df['travel_with'] = X_clean['travel_with'].apply(lambda x : find_key(round(x), trw))\n",
    "\n",
    "# Total Female\n",
    "df['total_female'] = X_clean['total_female'].apply(lambda x : round(x))\n",
    "\n",
    "# Total Male\n",
    "df['total_male'] = X_clean['total_male'].apply(lambda x : round(x))"
   ]
  },
  {
   "cell_type": "code",
   "execution_count": 12,
   "id": "3ce65836",
   "metadata": {},
   "outputs": [
    {
     "data": {
      "text/plain": [
       "Alone                  2360\n",
       "Spouse                 1017\n",
       "Friends/Relatives       901\n",
       "Spouse and Children     368\n",
       "Children                163\n",
       "Name: travel_with, dtype: int64"
      ]
     },
     "execution_count": 12,
     "metadata": {},
     "output_type": "execute_result"
    }
   ],
   "source": [
    "df['travel_with'].value_counts()"
   ]
  },
  {
   "cell_type": "code",
   "execution_count": 13,
   "id": "d729d691",
   "metadata": {},
   "outputs": [
    {
     "data": {
      "text/plain": [
       "array(['SWIZERLAND', 'UNITED KINGDOM', 'CHINA', 'SOUTH AFRICA',\n",
       "       'UNITED STATES OF AMERICA', 'NIGERIA', 'INDIA', 'BRAZIL', 'CANADA',\n",
       "       'MALT', 'MOZAMBIQUE', 'RWANDA', 'AUSTRIA', 'MYANMAR', 'GERMANY',\n",
       "       'KENYA', 'ALGERIA', 'IRELAND', 'DENMARK', 'SPAIN', 'FRANCE',\n",
       "       'ITALY', 'EGYPT', 'QATAR', 'MALAWI', 'JAPAN', 'SWEDEN',\n",
       "       'NETHERLANDS', 'UAE', 'UGANDA', 'AUSTRALIA', 'YEMEN',\n",
       "       'NEW ZEALAND', 'BELGIUM', 'NORWAY', 'ZIMBABWE', 'ZAMBIA', 'CONGO',\n",
       "       'BURGARIA', 'PAKISTAN', 'GREECE', 'MAURITIUS', 'DRC', 'OMAN',\n",
       "       'PORTUGAL', 'KOREA', 'SWAZILAND', 'TUNISIA', 'KUWAIT', 'DOMINICA',\n",
       "       'ISRAEL', 'FINLAND', 'CZECH REPUBLIC', 'UKRAIN', 'ETHIOPIA',\n",
       "       'BURUNDI', 'SCOTLAND', 'RUSSIA', 'GHANA', 'NIGER', 'MALAYSIA',\n",
       "       'COLOMBIA', 'LUXEMBOURG', 'NEPAL', 'POLAND', 'SINGAPORE',\n",
       "       'LITHUANIA', 'HUNGARY', 'INDONESIA', 'TURKEY', 'TRINIDAD TOBACCO',\n",
       "       'IRAQ', 'SLOVENIA', 'UNITED ARAB EMIRATES', 'COMORO', 'SRI LANKA',\n",
       "       'IRAN', 'MONTENEGRO', 'ANGOLA', 'LEBANON', 'SLOVAKIA', 'ROMANIA',\n",
       "       'MEXICO', 'LATVIA', 'CROATIA', 'CAPE VERDE', 'SUDAN', 'COSTARICA',\n",
       "       'CHILE', 'NAMIBIA', 'TAIWAN', 'SERBIA', 'LESOTHO', 'GEORGIA',\n",
       "       'PHILIPINES', 'IVORY COAST', 'MADAGASCAR', 'DJIBOUT', 'CYPRUS',\n",
       "       'ARGENTINA', 'URUGUAY', 'MORROCO', 'THAILAND', 'BERMUDA',\n",
       "       'ESTONIA'], dtype=object)"
      ]
     },
     "execution_count": 13,
     "metadata": {},
     "output_type": "execute_result"
    }
   ],
   "source": [
    "df['country'].unique()"
   ]
  },
  {
   "cell_type": "markdown",
   "id": "2d31a8d2",
   "metadata": {},
   "source": [
    "## Country Name Anomalies\n",
    "\n",
    "The following country name inputs was wrongly entered. We will have to correct it for the data analysis\n",
    "\n",
    "1. SWIZERLAND : SWITZERLAND\n",
    "2. MALT : MALTA\n",
    "3. UKRAIN : UKRAINE\n",
    "4. BURGARIA : BULGARIA\n",
    "5. TRINIDAD TOBACCO : TRINIDAD AND TOBAGO\n",
    "6. COMORO : COMOROS\n",
    "7. PHILIPINES : PHILIPPINES\n",
    "8. DJIBOUT : DJIBOUTI\n",
    "9. MORROCO : MOROCCO"
   ]
  },
  {
   "cell_type": "code",
   "execution_count": 14,
   "id": "89716781",
   "metadata": {},
   "outputs": [],
   "source": [
    "c_name = {\n",
    "    'SWIZERLAND': 'SWITZERLAND',\n",
    "    'MALT': 'MALTA',\n",
    "    'UKRAIN': 'UKRAINE',\n",
    "    'BURGARIA': 'BULGARIA',\n",
    "    'TRINIDAD TOBACCO': 'TRINIDAD AND TOBAGO',\n",
    "    'COMORO': 'COMOROS',\n",
    "    'PHILIPINES': 'PHILIPPINES',\n",
    "    'DJIBOUT': 'DJIBOUTI',\n",
    "    'MORROCO': 'MOROCCO'\n",
    "    'SCOTLAND': 'UNITED KINGDOM'\n"
    "}\n",
    "\n",
    "df['country'] = df['country'].apply(lambda x : c_name.get(x, x))"
   ]
  },
  {
   "cell_type": "code",
   "execution_count": 15,
   "id": "de2c518d",
   "metadata": {},
   "outputs": [],
   "source": [
    "df.to_csv(r'data/clean_train.csv', index=False)"
   ]
  },
  {
   "cell_type": "code",
   "execution_count": null,
   "id": "92ba9a34",
   "metadata": {},
   "outputs": [],
   "source": []
  }
 ],
 "metadata": {
  "kernelspec": {
   "display_name": "Python 3 (ipykernel)",
   "language": "python",
   "name": "python3"
  },
  "language_info": {
   "codemirror_mode": {
    "name": "ipython",
    "version": 3
   },
   "file_extension": ".py",
   "mimetype": "text/x-python",
   "name": "python",
   "nbconvert_exporter": "python",
   "pygments_lexer": "ipython3",
   "version": "3.7.11"
  }
 },
 "nbformat": 4,
 "nbformat_minor": 5
}
